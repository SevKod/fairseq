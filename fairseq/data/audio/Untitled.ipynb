{
 "cells": [
  {
   "cell_type": "code",
   "execution_count": 2,
   "id": "cfab8bbc-4236-4bda-bd65-7daa16ab1274",
   "metadata": {},
   "outputs": [
    {
     "name": "stderr",
     "output_type": "stream",
     "text": [
      "2023-06-16 18:08:55.972559: I tensorflow/core/platform/cpu_feature_guard.cc:182] This TensorFlow binary is optimized to use available CPU instructions in performance-critical operations.\n",
      "To enable the following instructions: AVX2 AVX512F FMA, in other operations, rebuild TensorFlow with the appropriate compiler flags.\n",
      "2023-06-16 18:08:58.272987: W tensorflow/compiler/tf2tensorrt/utils/py_utils.cc:38] TF-TRT Warning: Could not find TensorRT\n"
     ]
    }
   ],
   "source": [
    "# Copyright (c) 2017-present, Facebook, Inc.\n",
    "# All rights reserved.\n",
    "#\n",
    "# This source code is licensed under the license found in the LICENSE file in\n",
    "# the root directory of this source tree. An additional grant of patent rights\n",
    "# can be found in the PATENTS file in the same directory.\n",
    "\n",
    "import logging\n",
    "import os\n",
    "import sys\n",
    "from typing import Dict, List, Optional, Tuple\n",
    "\n",
    "import numpy as np\n",
    "\n",
    "from dataclasses import dataclass, field\n",
    "from fairseq.data import Dictionary, HubertDataset\n",
    "from fairseq.dataclass.configs import FairseqDataclass\n",
    "from fairseq.tasks import register_task\n",
    "from fairseq.tasks.fairseq_task import FairseqTask\n",
    "from omegaconf import MISSING"
   ]
  },
  {
   "cell_type": "code",
   "execution_count": null,
   "id": "5741f2cc-4a57-4611-9e24-5d5dddd028f1",
   "metadata": {},
   "outputs": [],
   "source": [
    "manifest = f\"{self.cfg.data}/{split}.tsv\"\n",
    "dicts = [self.target_dictionary] if self.cfg.fine_tuning else self.dictionaries\n",
    "pad_list = [dict.pad() for dict in dicts]\n",
    "eos_list = [dict.eos() for dict in dicts]\n",
    "procs = [LabelEncoder(dict) for dict in dicts]\n",
    "paths = [f\"{self.get_label_dir()}/{split}.{l}\" for l in self.cfg.labels]\n",
    "\n",
    "# hubert v1: pad_audio=True, random_crop=False;\n",
    "self.datasets[split] = HubertDataset(\n",
    "    manifest,\n",
    "    sample_rate=self.cfg.sample_rate,\n",
    "    label_paths=paths,\n",
    "    label_rates=self.cfg.label_rate,\n",
    "    pad_list=pad_list,\n",
    "    eos_list=eos_list,\n",
    "    label_processors=procs,\n",
    "    max_keep_sample_size=self.cfg.max_keep_size,\n",
    "    min_keep_sample_size=self.cfg.min_sample_size,\n",
    "    max_sample_size=self.cfg.max_sample_size,\n",
    "    pad_audio=self.cfg.pad_audio,\n",
    "    normalize=self.cfg.normalize,\n",
    "    store_labels=False,\n",
    "    random_crop=self.cfg.random_crop,\n",
    "    single_target=self.cfg.single_target,\n",
    "    )"
   ]
  }
 ],
 "metadata": {
  "kernelspec": {
   "display_name": "Python 3 (ipykernel)",
   "language": "python",
   "name": "python3"
  },
  "language_info": {
   "codemirror_mode": {
    "name": "ipython",
    "version": 3
   },
   "file_extension": ".py",
   "mimetype": "text/x-python",
   "name": "python",
   "nbconvert_exporter": "python",
   "pygments_lexer": "ipython3",
   "version": "3.8.16"
  }
 },
 "nbformat": 4,
 "nbformat_minor": 5
}
